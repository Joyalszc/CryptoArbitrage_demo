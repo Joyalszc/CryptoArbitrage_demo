{
 "cells": [
  {
   "cell_type": "code",
   "execution_count": 20,
   "id": "85571b56",
   "metadata": {},
   "outputs": [],
   "source": [
    "#An Arbitrage system demo to calculate the price difference between 2 crypto exchanges and display profit\n",
    "# -after deducting the trading fee\n",
    "\n",
    "# price_a and price_b are the prices in 2 exchanges\n",
    "# trading_fee standing for trading fee on each exchange"
   ]
  },
  {
   "cell_type": "code",
   "execution_count": 1,
   "id": "2a9abac1",
   "metadata": {},
   "outputs": [],
   "source": [
    "def calculate_arb(price_a, price_b):\n",
    "    if price_a < price_b:    # Buy on A, Sell on B\n",
    "        profit = ((price_b - price_a) / price_a) * 100\n",
    "        profit_val = price_b - price_a\n",
    "    else:    # Buy on B, Sell on A\n",
    "        profit = ((price_a - price_b) / price_b) * 100\n",
    "        profit_val = price_a - price_b\n",
    "          \n",
    "            \n",
    "    #Setting trading fees (assumed for both buy & sell)\n",
    "  \n",
    "    total_fee = 2 * trading_fee * 100  # Convert to percentage\n",
    "    net_profit = profit - total_fee\n",
    "    \n",
    "\n",
    "    \n",
    "    return round(net_profit, 2)"
   ]
  },
  {
   "cell_type": "code",
   "execution_count": 23,
   "id": "aac0a864",
   "metadata": {},
   "outputs": [
    {
     "name": "stdout",
     "output_type": "stream",
     "text": [
      "Enter price of Xcoin on Exchange A: 900\n",
      "Enter price of Xcoin on Exchange B: 990\n",
      "Enter the trading fee (decimal): 0.001\n",
      "Arbitrage Profit Percentage: 9.8%\n"
     ]
    }
   ],
   "source": [
    "Exh_a_price = float(input(\"Enter price of Xcoin on Exchange A: \"))\n",
    "Exh_b_price = float(input(\"Enter price of Xcoin on Exchange B: \"))\n",
    "trading_fee = float(input(\"Enter the trading fee (decimal): \"))\n",
    "\n",
    "\n",
    "profit = calculate_arb(Exh_a_price, Exh_b_price)\n",
    "\n",
    "\n",
    "print(f\"Arbitrage Profit Percentage: {profit}%\")\n"
   ]
  },
  {
   "cell_type": "code",
   "execution_count": null,
   "id": "d081458e",
   "metadata": {},
   "outputs": [],
   "source": []
  }
 ],
 "metadata": {
  "kernelspec": {
   "display_name": "Python 3 (ipykernel)",
   "language": "python",
   "name": "python3"
  },
  "language_info": {
   "codemirror_mode": {
    "name": "ipython",
    "version": 3
   },
   "file_extension": ".py",
   "mimetype": "text/x-python",
   "name": "python",
   "nbconvert_exporter": "python",
   "pygments_lexer": "ipython3",
   "version": "3.9.13"
  }
 },
 "nbformat": 4,
 "nbformat_minor": 5
}
